{
 "cells": [
  {
   "cell_type": "markdown",
   "id": "9ac03b90",
   "metadata": {},
   "source": [
    "## Caso Práctico:\n",
    "- Analizar qué variables principales (edades, plataforma favorita, tiempo en sesión promedio,etc..) Presentan ciertos rangos de tickets de compra. Ejemplo el Ticket de compra X tiene como Tipo de Pago favorito \"App\", las edades promedio, mínima y máxima son de ... "
   ]
  },
  {
   "cell_type": "code",
   "execution_count": 245,
   "id": "a9b42247",
   "metadata": {
    "scrolled": true
   },
   "outputs": [
    {
     "name": "stdout",
     "output_type": "stream",
     "text": [
      "   Transaction Id  Ticket de Compra  Edad Plataforma  Tiempo en Sesion  \\\n",
      "0               1             10698    27     Pagina                62   \n",
      "1               2              6868    29        App                44   \n",
      "2               3             10929    33        App                34   \n",
      "3               4              7100    32     Pagina                14   \n",
      "4               5             19047    35        App                 6   \n",
      "\n",
      "  Tipo de Pago  Paginas Vistas    CTR  \n",
      "0       Debito               5  0.114  \n",
      "1      Credito               8  0.153  \n",
      "2      Credito               2  0.175  \n",
      "3       Debito               5  0.209  \n",
      "4      Credito               4  0.172  \n"
     ]
    }
   ],
   "source": [
    "import pandas as pd\n",
    "import matplotlib.pyplot as plt\n",
    "import seaborn as sns\n",
    "import numpy as np\n",
    "\n",
    "data = pd.read_excel(\"TRANSACTIONAL_EVENTO2023.xlsx\")\n",
    "\n",
    "print(data.head())"
   ]
  },
  {
   "cell_type": "code",
   "execution_count": 246,
   "id": "e9230ba2",
   "metadata": {
    "scrolled": true
   },
   "outputs": [
    {
     "name": "stdout",
     "output_type": "stream",
     "text": [
      "Transaction Id      0\n",
      "Ticket de Compra    0\n",
      "Edad                0\n",
      "Plataforma          0\n",
      "Tiempo en Sesion    0\n",
      "Tipo de Pago        0\n",
      "Paginas Vistas      0\n",
      "CTR                 0\n",
      "dtype: int64\n"
     ]
    }
   ],
   "source": [
    "#revisar si hay celdas en blanco\n",
    "print(data.isnull().sum())"
   ]
  },
  {
   "cell_type": "code",
   "execution_count": 247,
   "id": "f25c48c1",
   "metadata": {
    "scrolled": true
   },
   "outputs": [
    {
     "data": {
      "text/html": [
       "<div>\n",
       "<style scoped>\n",
       "    .dataframe tbody tr th:only-of-type {\n",
       "        vertical-align: middle;\n",
       "    }\n",
       "\n",
       "    .dataframe tbody tr th {\n",
       "        vertical-align: top;\n",
       "    }\n",
       "\n",
       "    .dataframe thead th {\n",
       "        text-align: right;\n",
       "    }\n",
       "</style>\n",
       "<table border=\"1\" class=\"dataframe\">\n",
       "  <thead>\n",
       "    <tr style=\"text-align: right;\">\n",
       "      <th></th>\n",
       "      <th>Transaction Id</th>\n",
       "      <th>Ticket de Compra</th>\n",
       "      <th>Edad</th>\n",
       "      <th>Plataforma</th>\n",
       "      <th>Tiempo en Sesion</th>\n",
       "      <th>Tipo de Pago</th>\n",
       "      <th>Paginas Vistas</th>\n",
       "      <th>CTR</th>\n",
       "    </tr>\n",
       "  </thead>\n",
       "  <tbody>\n",
       "    <tr>\n",
       "      <th>1356</th>\n",
       "      <td>1357</td>\n",
       "      <td>19991</td>\n",
       "      <td>24</td>\n",
       "      <td>App</td>\n",
       "      <td>29</td>\n",
       "      <td>Promo Bancaria</td>\n",
       "      <td>5</td>\n",
       "      <td>0.1050</td>\n",
       "    </tr>\n",
       "    <tr>\n",
       "      <th>105</th>\n",
       "      <td>106</td>\n",
       "      <td>19989</td>\n",
       "      <td>40</td>\n",
       "      <td>App</td>\n",
       "      <td>34</td>\n",
       "      <td>Debito</td>\n",
       "      <td>1</td>\n",
       "      <td>0.2330</td>\n",
       "    </tr>\n",
       "    <tr>\n",
       "      <th>1783</th>\n",
       "      <td>1784</td>\n",
       "      <td>19985</td>\n",
       "      <td>30</td>\n",
       "      <td>App</td>\n",
       "      <td>15</td>\n",
       "      <td>Credito</td>\n",
       "      <td>1</td>\n",
       "      <td>0.1000</td>\n",
       "    </tr>\n",
       "    <tr>\n",
       "      <th>1091</th>\n",
       "      <td>1092</td>\n",
       "      <td>19981</td>\n",
       "      <td>39</td>\n",
       "      <td>App</td>\n",
       "      <td>15</td>\n",
       "      <td>Credito</td>\n",
       "      <td>5</td>\n",
       "      <td>0.0912</td>\n",
       "    </tr>\n",
       "    <tr>\n",
       "      <th>1917</th>\n",
       "      <td>1918</td>\n",
       "      <td>19979</td>\n",
       "      <td>40</td>\n",
       "      <td>App</td>\n",
       "      <td>12</td>\n",
       "      <td>Debito</td>\n",
       "      <td>4</td>\n",
       "      <td>0.1760</td>\n",
       "    </tr>\n",
       "  </tbody>\n",
       "</table>\n",
       "</div>"
      ],
      "text/plain": [
       "      Transaction Id  Ticket de Compra  Edad Plataforma  Tiempo en Sesion  \\\n",
       "1356            1357             19991    24        App                29   \n",
       "105              106             19989    40        App                34   \n",
       "1783            1784             19985    30        App                15   \n",
       "1091            1092             19981    39        App                15   \n",
       "1917            1918             19979    40        App                12   \n",
       "\n",
       "        Tipo de Pago  Paginas Vistas     CTR  \n",
       "1356  Promo Bancaria               5  0.1050  \n",
       "105           Debito               1  0.2330  \n",
       "1783         Credito               1  0.1000  \n",
       "1091         Credito               5  0.0912  \n",
       "1917          Debito               4  0.1760  "
      ]
     },
     "execution_count": 247,
     "metadata": {},
     "output_type": "execute_result"
    }
   ],
   "source": [
    "data_sorted = data.sort_values(by='Ticket de Compra', ascending=False)\n",
    "\n",
    "data_sorted.head()"
   ]
  },
  {
   "cell_type": "code",
   "execution_count": 248,
   "id": "4e0510c0",
   "metadata": {},
   "outputs": [
    {
     "name": "stdout",
     "output_type": "stream",
     "text": [
      "Valores únicos en la columna 'Tipo de Pago':\n",
      "['Debito' 'Credito' 'Promo Bancaria']\n"
     ]
    }
   ],
   "source": [
    "# Obtener los valores únicos en la columna 'Tipo de Pago'\n",
    "\n",
    "valores_unicos = data['Tipo de Pago'].unique()\n",
    "\n",
    "# Imprimir los valores únicos\n",
    "print(\"Valores únicos en la columna 'Tipo de Pago':\")\n",
    "print(valores_unicos)"
   ]
  },
  {
   "cell_type": "code",
   "execution_count": 249,
   "id": "a2103232",
   "metadata": {},
   "outputs": [
    {
     "name": "stdout",
     "output_type": "stream",
     "text": [
      "Valor más bajo: 4003, Aparece 1 veces\n",
      "Valor más alto: 19991, Aparece 1 veces\n",
      "Valor promedio: 12073.547, Aparece 0 veces\n"
     ]
    }
   ],
   "source": [
    "# Valores promedios, más y menos frecuentes para la columna Ticket de Compra\n",
    "\n",
    "# Valor más bajo y cuántas veces aparece\n",
    "min_value = data['Ticket de Compra'].min()\n",
    "min_count = (data['Ticket de Compra'] == min_value).sum()\n",
    "\n",
    "# Valor más alto y cuántas veces aparece\n",
    "max_value = data['Ticket de Compra'].max()\n",
    "max_count = (data['Ticket de Compra'] == max_value).sum()\n",
    "\n",
    "# Valor en posición central (Mediana) y cuántas veces aparece\n",
    "#median_value = data['Ticket de Compra'].median()\n",
    "#median_count = (data['Ticket de Compra'] == median_value).sum()\n",
    "\n",
    "# Valor promedio y cuántas veces aparece\n",
    "mean_value = data['Ticket de Compra'].mean()\n",
    "mean_count = (data['Ticket de Compra'] == mean_value).sum()\n",
    "\n",
    "# Mostrar los resultados\n",
    "print(f\"Valor más bajo: {min_value}, Aparece {min_count} veces\")\n",
    "print(f\"Valor más alto: {max_value}, Aparece {max_count} veces\")\n",
    "#print(f\"Valor Mediana (posición central): {median_value}, Aparece {median_count} veces\")\n",
    "print(f\"Valor promedio: {mean_value}, Aparece {mean_count} veces\")\n"
   ]
  },
  {
   "cell_type": "code",
   "execution_count": 250,
   "id": "08e8ccb8",
   "metadata": {},
   "outputs": [],
   "source": [
    "# El objetivo es analizar qué variables principales (edades, plataforma favorita, tiempo en sesión promedio,etc..)\n",
    "# Presentan ciertos rangos de tickets de compra "
   ]
  },
  {
   "cell_type": "code",
   "execution_count": 251,
   "id": "a1977b67",
   "metadata": {
    "scrolled": true
   },
   "outputs": [
    {
     "name": "stderr",
     "output_type": "stream",
     "text": [
      "C:\\Users\\rou_27\\anaconda3\\Lib\\site-packages\\sklearn\\cluster\\_kmeans.py:1412: FutureWarning:\n",
      "\n",
      "The default value of `n_init` will change from 10 to 'auto' in 1.4. Set the value of `n_init` explicitly to suppress the warning\n",
      "\n",
      "C:\\Users\\rou_27\\anaconda3\\Lib\\site-packages\\sklearn\\cluster\\_kmeans.py:1412: FutureWarning:\n",
      "\n",
      "The default value of `n_init` will change from 10 to 'auto' in 1.4. Set the value of `n_init` explicitly to suppress the warning\n",
      "\n",
      "C:\\Users\\rou_27\\anaconda3\\Lib\\site-packages\\sklearn\\cluster\\_kmeans.py:1412: FutureWarning:\n",
      "\n",
      "The default value of `n_init` will change from 10 to 'auto' in 1.4. Set the value of `n_init` explicitly to suppress the warning\n",
      "\n",
      "C:\\Users\\rou_27\\anaconda3\\Lib\\site-packages\\sklearn\\cluster\\_kmeans.py:1412: FutureWarning:\n",
      "\n",
      "The default value of `n_init` will change from 10 to 'auto' in 1.4. Set the value of `n_init` explicitly to suppress the warning\n",
      "\n",
      "C:\\Users\\rou_27\\anaconda3\\Lib\\site-packages\\sklearn\\cluster\\_kmeans.py:1412: FutureWarning:\n",
      "\n",
      "The default value of `n_init` will change from 10 to 'auto' in 1.4. Set the value of `n_init` explicitly to suppress the warning\n",
      "\n",
      "C:\\Users\\rou_27\\anaconda3\\Lib\\site-packages\\sklearn\\cluster\\_kmeans.py:1412: FutureWarning:\n",
      "\n",
      "The default value of `n_init` will change from 10 to 'auto' in 1.4. Set the value of `n_init` explicitly to suppress the warning\n",
      "\n",
      "C:\\Users\\rou_27\\anaconda3\\Lib\\site-packages\\sklearn\\cluster\\_kmeans.py:1412: FutureWarning:\n",
      "\n",
      "The default value of `n_init` will change from 10 to 'auto' in 1.4. Set the value of `n_init` explicitly to suppress the warning\n",
      "\n",
      "C:\\Users\\rou_27\\anaconda3\\Lib\\site-packages\\sklearn\\cluster\\_kmeans.py:1412: FutureWarning:\n",
      "\n",
      "The default value of `n_init` will change from 10 to 'auto' in 1.4. Set the value of `n_init` explicitly to suppress the warning\n",
      "\n",
      "C:\\Users\\rou_27\\anaconda3\\Lib\\site-packages\\sklearn\\cluster\\_kmeans.py:1412: FutureWarning:\n",
      "\n",
      "The default value of `n_init` will change from 10 to 'auto' in 1.4. Set the value of `n_init` explicitly to suppress the warning\n",
      "\n",
      "C:\\Users\\rou_27\\anaconda3\\Lib\\site-packages\\sklearn\\cluster\\_kmeans.py:1412: FutureWarning:\n",
      "\n",
      "The default value of `n_init` will change from 10 to 'auto' in 1.4. Set the value of `n_init` explicitly to suppress the warning\n",
      "\n"
     ]
    },
    {
     "data": {
      "image/png": "[encoded data removed]",
      "text/plain": [
       "<Figure size 1000x600 with 1 Axes>"
      ]
     },
     "metadata": {},
     "output_type": "display_data"
    }
   ],
   "source": [
    "# Ver de manera visual cuántos grupos deberíamos tener (x4) \n",
    "\n",
    "from sklearn.cluster import KMeans\n",
    "import matplotlib.pyplot as plt\n",
    "\n",
    "# Lista para almacenar los valores de WCSS\n",
    "wcss_values = []\n",
    "\n",
    "# Calcular WCSS para diferentes valores de k (número de clusters)\n",
    "for k in range(1, 11):  # Probamos desde 1 hasta 10 clusters\n",
    "    kmeans = KMeans(n_clusters=k, random_state=42)\n",
    "    kmeans.fit(data['Ticket de Compra'].values.reshape(-1, 1))\n",
    "    wcss_values.append(kmeans.inertia_)\n",
    "\n",
    "# Graficar el codo (elbow)\n",
    "plt.figure(figsize=(10, 6))\n",
    "plt.plot(range(1, 11), wcss_values, marker='o')\n",
    "plt.xlabel('Número de Clusters (k)')\n",
    "plt.ylabel('WCSS (Suma de Cuadrados dentro de los Clusters)')\n",
    "plt.title('Elbow Method para Rangos de Precios de Tickets')\n",
    "plt.xticks(range(1, 11))\n",
    "plt.grid(True)\n",
    "plt.show()\n"
   ]
  },
  {
   "cell_type": "code",
   "execution_count": 252,
   "id": "83f8fde9",
   "metadata": {},
   "outputs": [],
   "source": [
    "# 1) SEPARAR EL DATA EN 2 CUARTILES\n",
    "\n",
    "# Calcular los cuantiles para dividir los datos en cuatro grupos\n",
    "\n",
    "#q1 = data['Ticket de Compra'].quantile(0.35)\n",
    "#q2 = data['Ticket de Compra'].quantile(0.70)\n",
    "\n",
    "# Asignar cada valor de Ticket de Compra a un rango específico basado en los cuantiles\n",
    "\n",
    "#def asignar_rango(ticket):\n",
    "#    if ticket <= q1:\n",
    "#        return 'Bajo'\n",
    "#    elif ticket <= q2:\n",
    "#        return 'Medio'\n",
    "#    else:\n",
    "#        return 'Alto'\n",
    "\n",
    "#data['Rango'] = data['Ticket de Compra'].apply(asignar_rango)\n",
    "\n",
    "# Mostrar los cuantiles y sus rangos correspondientes\n",
    "\n",
    "#print(f\"Cuantil 0.35: {q1}\")\n",
    "#print(f\"Cuantil 0.70: {q2}\")"
   ]
  },
  {
   "cell_type": "code",
   "execution_count": 253,
   "id": "9c7259ee",
   "metadata": {},
   "outputs": [],
   "source": [
    "# 2) AGREGAR A QUE CUARTIL PERTENECEN COMO NUEVA COLUMNA\n",
    "\n",
    "# Cuantiles obtenidos previamente\n",
    "#q1 = 9733.85\n",
    "#q2 = 15141.2\n",
    "\n",
    "# Asignar cada valor de Ticket de Compra a un rango específico basado en los cuantiles\n",
    "#def asignar_rango(ticket):\n",
    "#    if ticket >= 4000 and ticket <= 10000:\n",
    "#        return 'Bajo'\n",
    "#    elif ticket > 10000 and ticket <= 15000:\n",
    "#        return 'Medio'\n",
    "#    else:\n",
    "#        return 'Alto'\n",
    "\n",
    "# Crear una nueva columna 'Rango' con los valores correspondientes\n",
    "#data['Rango'] = data['Ticket de Compra'].apply(asignar_rango)\n",
    "\n",
    "# Mostrar el DataFrame con la nueva columna 'Rango'\n",
    "#print(data.head())"
   ]
  },
  {
   "cell_type": "code",
   "execution_count": 254,
   "id": "6b221273",
   "metadata": {},
   "outputs": [
    {
     "name": "stdout",
     "output_type": "stream",
     "text": [
      "Límite del rango Bajo: 8111.5\n",
      "Límite del rango Medio: 12199.5\n",
      "Límite del rango Alto: 15917.0\n"
     ]
    }
   ],
   "source": [
    "# Quiero separar en 4 grupos de compradores: Tickets bajos, medio, alto y premium\n",
    "\n",
    "# Calcular los cuartiles de los valores de Ticket de Compra\n",
    "q1 = data['Ticket de Compra'].quantile(0.25)\n",
    "q2 = data['Ticket de Compra'].quantile(0.5)\n",
    "q3 = data['Ticket de Compra'].quantile(0.75)\n",
    "\n",
    "# Definir los límites de los rangos usando los cuartiles\n",
    "limite_bajo = q1\n",
    "limite_medio = q2\n",
    "limite_alto = q3\n",
    "\n",
    "# Asignar cada valor de Ticket de Compra a un rango específico basado en los límites\n",
    "def asignar_rango(ticket):\n",
    "    if ticket <= limite_bajo:\n",
    "        return 'Bajo'\n",
    "    elif ticket <= limite_medio:\n",
    "        return 'Medio'\n",
    "    else:\n",
    "        return 'Alto'\n",
    "\n",
    "data['Rango'] = data['Ticket de Compra'].apply(asignar_rango)\n",
    "\n",
    "# Mostrar los límites de los rangos\n",
    "print(f\"Límite del rango Bajo: {limite_bajo}\")\n",
    "print(f\"Límite del rango Medio: {limite_medio}\")\n",
    "print(f\"Límite del rango Alto: {limite_alto}\")\n"
   ]
  },
  {
   "cell_type": "markdown",
   "id": "85b8fb30",
   "metadata": {},
   "source": [
    "Tengo los siguientes Rangos de Tickets:\n",
    "\n",
    "- Ticket Bajo 0 a 8000\n",
    "- Ticket Medio 8001 a 12000\n",
    "- Ticket Alto 12001 a 15000\n",
    "- Ticket Premium 15001 a 20000"
   ]
  },
  {
   "cell_type": "code",
   "execution_count": 255,
   "id": "063fd0b7",
   "metadata": {},
   "outputs": [
    {
     "name": "stdout",
     "output_type": "stream",
     "text": [
      "   Transaction Id  Ticket de Compra  Edad Plataforma  Tiempo en Sesion  \\\n",
      "0               1             10698    27     Pagina                62   \n",
      "1               2              6868    29        App                44   \n",
      "2               3             10929    33        App                34   \n",
      "3               4              7100    32     Pagina                14   \n",
      "4               5             19047    35        App                 6   \n",
      "\n",
      "  Tipo de Pago  Paginas Vistas    CTR                          Rango  \n",
      "0       Debito               5  0.114     Ticket Medio(8001 a 12000)  \n",
      "1      Credito               8  0.153      Ticket Bajo (4000 a 8000)  \n",
      "2      Credito               2  0.175     Ticket Medio(8001 a 12000)  \n",
      "3       Debito               5  0.209      Ticket Bajo (4000 a 8000)  \n",
      "4      Credito               4  0.172  Ticket Premium(15001 a 20000)  \n"
     ]
    }
   ],
   "source": [
    "# 3) Agregar la nueva columna a mi dataframe\n",
    "\n",
    "\n",
    "# Crear las condiciones para cada rango\n",
    "condiciones = [\n",
    "    (data['Ticket de Compra'] >= 4000) & (data['Ticket de Compra'] <= 8000),\n",
    "    (data['Ticket de Compra'] >= 8001) & (data['Ticket de Compra'] <= 12000),\n",
    "    (data['Ticket de Compra'] >= 12001) & (data['Ticket de Compra'] <= 15000),\n",
    "    (data['Ticket de Compra'] >= 15001) & (data['Ticket de Compra'] <= 20000)\n",
    "]\n",
    "\n",
    "# Asignar etiquetas a cada rango\n",
    "etiquetas = ['Ticket Bajo (4000 a 8000)', 'Ticket Medio(8001 a 12000)', 'Ticket Alto (12001 a 15000)', 'Ticket Premium(15001 a 20000)']\n",
    "\n",
    "# Crear una nueva columna 'Rango' con los valores correspondientes\n",
    "data['Rango'] = np.select(condiciones, etiquetas, default='Otro')\n",
    "\n",
    "# Mostrar el DataFrame con la nueva columna 'Rango'\n",
    "print(data.head())"
   ]
  },
  {
   "cell_type": "code",
   "execution_count": 256,
   "id": "f280d537",
   "metadata": {},
   "outputs": [
    {
     "name": "stdout",
     "output_type": "stream",
     "text": [
      "             Column    Dtype\n",
      "0    Transaction Id    int64\n",
      "1  Ticket de Compra    int64\n",
      "2              Edad    int64\n",
      "3        Plataforma   object\n",
      "4  Tiempo en Sesion    int64\n",
      "5      Tipo de Pago   object\n",
      "6    Paginas Vistas    int64\n",
      "7               CTR  float64\n",
      "8             Rango   object\n"
     ]
    }
   ],
   "source": [
    "data_info = data.dtypes.to_frame().reset_index()\n",
    "data_info.columns = ['Column', 'Dtype']\n",
    "print(data_info)"
   ]
  },
  {
   "cell_type": "code",
   "execution_count": 257,
   "id": "7edd140a",
   "metadata": {},
   "outputs": [
    {
     "name": "stdout",
     "output_type": "stream",
     "text": [
      "Distribución de frecuencia de mayor a menor:\n",
      "                        Rango  Frecuencia  Porcentaje (%)  Frecuencia Acumulada  Frecuencia Acumulada (%)\n",
      "Ticket Premium(15001 a 20000)         612           30.60                   612                     30.60\n",
      "   Ticket Medio(8001 a 12000)         495           24.75                  1107                     55.35\n",
      "    Ticket Bajo (4000 a 8000)         487           24.35                  1594                     79.70\n",
      "  Ticket Alto (12001 a 15000)         406           20.30                  2000                    100.00\n",
      "\n",
      "Número total de tickets: 2000\n"
     ]
    }
   ],
   "source": [
    "import pandas as pd\n",
    "\n",
    "# Calcular el conteo de ocurrencias de cada valor en la columna 'Rango'\n",
    "conteo_rango = data['Rango'].value_counts()\n",
    "\n",
    "# Obtener el número total de tickets\n",
    "total_tickets = len(data)\n",
    "\n",
    "# Calcular el porcentaje de frecuencia para cada rango\n",
    "porcentaje_frecuencia = (conteo_rango / total_tickets) * 100\n",
    "\n",
    "# Calcular la frecuencia acumulada y el porcentaje de frecuencia acumulada\n",
    "frecuencia_acumulada = conteo_rango.cumsum()\n",
    "porcentaje_frecuencia_acumulada = (frecuencia_acumulada / total_tickets) * 100\n",
    "\n",
    "# Crear un DataFrame para la distribución de frecuencia\n",
    "df_frecuencia = pd.DataFrame({\n",
    "    'Rango': conteo_rango.index,\n",
    "    'Frecuencia': conteo_rango.values,\n",
    "    'Porcentaje (%)': porcentaje_frecuencia.values,\n",
    "    'Frecuencia Acumulada': frecuencia_acumulada.values,\n",
    "    'Frecuencia Acumulada (%)': porcentaje_frecuencia_acumulada.values\n",
    "})\n",
    "\n",
    "# Ordenar el DataFrame por la frecuencia en orden descendente\n",
    "df_frecuencia = df_frecuencia.sort_values(by='Frecuencia', ascending=False)\n",
    "\n",
    "# Imprimir la distribución de frecuencia como tabla\n",
    "print(\"Distribución de frecuencia de mayor a menor:\")\n",
    "print(df_frecuencia.to_string(index=False))\n",
    "\n",
    "# Imprimir el número total de tickets\n",
    "print(\"\\nNúmero total de tickets:\", total_tickets)\n"
   ]
  },
  {
   "cell_type": "code",
   "execution_count": 258,
   "id": "3014b251",
   "metadata": {
    "scrolled": false
   },
   "outputs": [
    {
     "data": {
      "image/png": "[encoded data removed]",
      "text/plain": [
       "<Figure size 1000x600 with 1 Axes>"
      ]
     },
     "metadata": {},
     "output_type": "display_data"
    }
   ],
   "source": [
    "import seaborn as sns\n",
    "import matplotlib.pyplot as plt\n",
    "\n",
    "# Crear un gráfico de barras para visualizar la distribución de las categorías en 'Rango'\n",
    "plt.figure(figsize=(10, 6))\n",
    "sns.countplot(data=data, x='Rango', palette='viridis')\n",
    "plt.title('Distribución de Rango')\n",
    "plt.xlabel('Rango')\n",
    "plt.ylabel('Count')\n",
    "plt.xticks(rotation=45)\n",
    "\n",
    "# Imprimir el conteo de ocurrencias de cada categoría\n",
    "#for index, value in enumerate(data['Rango'].value_counts()):\n",
    "#    plt.text(index, value + 5, str(value), ha='center', va='bottom', fontsize=10)\n",
    "\n",
    "# Imprimir el conteo total de ocurrencias debajo del gráfico\n",
    "#total_counts = len(data['Rango'])\n",
    "#plt.text(0, -20, f'Total: {total_counts}', ha='center', fontsize=12, weight='bold')\n",
    "\n",
    "plt.show()"
   ]
  },
  {
   "cell_type": "code",
   "execution_count": 259,
   "id": "775b72f0",
   "metadata": {
    "scrolled": true
   },
   "outputs": [
    {
     "name": "stdout",
     "output_type": "stream",
     "text": [
      "Estadísticas para Ticket Bajo:\n",
      "       Paginas Vistas         CTR\n",
      "count      487.000000  487.000000\n",
      "mean         4.110883    0.117661\n",
      "std          1.555564    0.066417\n",
      "min          1.000000    0.000000\n",
      "25%          3.000000    0.059100\n",
      "50%          4.000000    0.119200\n",
      "75%          5.000000    0.171600\n",
      "max          8.000000    0.249000\n",
      "\n",
      "Estadísticas para Ticket Medio:\n",
      "       Paginas Vistas         CTR\n",
      "count      495.000000  495.000000\n",
      "mean         4.010101    0.118974\n",
      "std          1.462728    0.068154\n",
      "min          1.000000    0.000000\n",
      "25%          3.000000    0.061000\n",
      "50%          4.000000    0.118400\n",
      "75%          5.000000    0.175100\n",
      "max          8.000000    0.250000\n",
      "\n",
      "Estadísticas para Ticket Alto:\n",
      "       Paginas Vistas         CTR\n",
      "count      406.000000  406.000000\n",
      "mean         4.014778    0.113699\n",
      "std          1.582240    0.066172\n",
      "min          1.000000    0.000000\n",
      "25%          3.000000    0.062000\n",
      "50%          4.000000    0.117200\n",
      "75%          5.000000    0.161750\n",
      "max          8.000000    0.248000\n",
      "\n",
      "Estadísticas para Ticket Premium:\n",
      "       Paginas Vistas         CTR\n",
      "count      612.000000  612.000000\n",
      "mean         4.093137    0.115933\n",
      "std          1.650121    0.069685\n",
      "min          1.000000    0.000000\n",
      "25%          3.000000    0.059150\n",
      "50%          4.000000    0.108000\n",
      "75%          5.000000    0.174250\n",
      "max          8.000000    0.250000\n"
     ]
    }
   ],
   "source": [
    "# ESTADISTICAS | QUE CARACTERÍSTICAS PRESENTAN NUESTROS DISTINTOS RANGOS DE TICKETS (VARIABLES NUMÉRICAS)\n",
    "\n",
    "# Define los rangos de ticket\n",
    "rango_bajo = (4000, 8000)\n",
    "rango_medio = (8001, 12000)\n",
    "rango_alto = (12001, 15000)\n",
    "rango_premium = (15001, 20000)\n",
    "\n",
    "\n",
    "# Filtra el DataFrame para cada rango de ticket\n",
    "data_bajo = data[(data['Ticket de Compra'] >= rango_bajo[0]) & (data['Ticket de Compra'] <= rango_bajo[1])]\n",
    "data_medio = data[(data['Ticket de Compra'] >= rango_medio[0]) & (data['Ticket de Compra'] <= rango_medio[1])]\n",
    "data_alto = data[(data['Ticket de Compra'] >= rango_alto[0]) & (data['Ticket de Compra'] <= rango_alto[1])]\n",
    "data_premium = data[(data['Ticket de Compra'] >= rango_premium[0]) & (data['Ticket de Compra'] <= rango_premium[1])]\n",
    "\n",
    "# Calcula las estadísticas descriptivas para cada grupo\n",
    "estadisticas_bajo = data_bajo[['Paginas Vistas', 'CTR']].describe()\n",
    "estadisticas_medio = data_medio[['Paginas Vistas', 'CTR']].describe()\n",
    "estadisticas_alto = data_alto[['Paginas Vistas', 'CTR']].describe()\n",
    "estadisticas_premium = data_premium[['Paginas Vistas', 'CTR']].describe()\n",
    "\n",
    "# Imprime las estadísticas descriptivas\n",
    "print(\"Estadísticas para Ticket Bajo:\")\n",
    "print(estadisticas_bajo)\n",
    "print(\"\\nEstadísticas para Ticket Medio:\")\n",
    "print(estadisticas_medio)\n",
    "print(\"\\nEstadísticas para Ticket Alto:\")\n",
    "print(estadisticas_alto)\n",
    "print(\"\\nEstadísticas para Ticket Premium:\")\n",
    "print(estadisticas_premium)\n"
   ]
  },
  {
   "cell_type": "code",
   "execution_count": 273,
   "id": "3e4f4503",
   "metadata": {},
   "outputs": [
    {
     "name": "stdout",
     "output_type": "stream",
     "text": [
      "Estadísticas para Ticket Bajo - Columnas Object:\n",
      "                                   Plataforma Tipo de Pago  \\\n",
      "Valor más usado                           App      Credito   \n",
      "Frecuencia más usada                      338          280   \n",
      "Valor menos usado                      Pagina       Debito   \n",
      "Frecuencia menos usada                    149           72   \n",
      "Suma entre valor más y menos usado        487          352   \n",
      "Valor promedio                          243.5   162.333333   \n",
      "Total de filas                            487          487   \n",
      "\n",
      "                                                        Rango  \n",
      "Valor más usado                     Ticket Bajo (4000 a 8000)  \n",
      "Frecuencia más usada                                      487  \n",
      "Valor menos usado                   Ticket Bajo (4000 a 8000)  \n",
      "Frecuencia menos usada                                    487  \n",
      "Suma entre valor más y menos usado                        974  \n",
      "Valor promedio                                          487.0  \n",
      "Total de filas                                            487  \n",
      "\n",
      "Estadísticas para Ticket Medio - Columnas Object:\n",
      "                                   Plataforma Tipo de Pago  \\\n",
      "Valor más usado                           App      Credito   \n",
      "Frecuencia más usada                      359          305   \n",
      "Valor menos usado                      Pagina       Debito   \n",
      "Frecuencia menos usada                    136           74   \n",
      "Suma entre valor más y menos usado        495          379   \n",
      "Valor promedio                          247.5        165.0   \n",
      "Total de filas                            495          495   \n",
      "\n",
      "                                                         Rango  \n",
      "Valor más usado                     Ticket Medio(8001 a 12000)  \n",
      "Frecuencia más usada                                       495  \n",
      "Valor menos usado                   Ticket Medio(8001 a 12000)  \n",
      "Frecuencia menos usada                                     495  \n",
      "Suma entre valor más y menos usado                         990  \n",
      "Valor promedio                                           495.0  \n",
      "Total de filas                                             495  \n",
      "\n",
      "Estadísticas para Ticket Alto - Columnas Object:\n",
      "                                   Plataforma Tipo de Pago  \\\n",
      "Valor más usado                           App      Credito   \n",
      "Frecuencia más usada                      291          254   \n",
      "Valor menos usado                      Pagina       Debito   \n",
      "Frecuencia menos usada                    115           51   \n",
      "Suma entre valor más y menos usado        406          305   \n",
      "Valor promedio                          203.0   135.333333   \n",
      "Total de filas                            406          406   \n",
      "\n",
      "                                                          Rango  \n",
      "Valor más usado                     Ticket Alto (12001 a 15000)  \n",
      "Frecuencia más usada                                        406  \n",
      "Valor menos usado                   Ticket Alto (12001 a 15000)  \n",
      "Frecuencia menos usada                                      406  \n",
      "Suma entre valor más y menos usado                          812  \n",
      "Valor promedio                                            406.0  \n",
      "Total de filas                                              406  \n",
      "\n",
      "Estadísticas para Ticket Premium - Columnas Object:\n",
      "                                   Plataforma Tipo de Pago  \\\n",
      "Valor más usado                           App      Credito   \n",
      "Frecuencia más usada                      432          382   \n",
      "Valor menos usado                      Pagina       Debito   \n",
      "Frecuencia menos usada                    180           97   \n",
      "Suma entre valor más y menos usado        612          479   \n",
      "Valor promedio                          306.0        204.0   \n",
      "Total de filas                            612          612   \n",
      "\n",
      "                                                            Rango  \n",
      "Valor más usado                     Ticket Premium(15001 a 20000)  \n",
      "Frecuencia más usada                                          612  \n",
      "Valor menos usado                   Ticket Premium(15001 a 20000)  \n",
      "Frecuencia menos usada                                        612  \n",
      "Suma entre valor más y menos usado                           1224  \n",
      "Valor promedio                                              612.0  \n",
      "Total de filas                                                612  \n"
     ]
    }
   ],
   "source": [
    "# ESTADISTICAS | QUE CARACTERÍSTICAS PRESENTAN NUESTROS DISTINTOS RANGOS DE TICKETS (VARIABLES DE TEXTO)\n",
    "\n",
    "# Define los rangos de ticket\n",
    "rango_bajo = (4000, 8000)\n",
    "rango_medio = (8001, 12000)\n",
    "rango_alto = (12001, 15000)\n",
    "rango_premium = (15001, 20000)\n",
    "\n",
    "# Filtra el DataFrame para cada rango de ticket\n",
    "data_bajo = data[(data['Ticket de Compra'] >= rango_bajo[0]) & (data['Ticket de Compra'] <= rango_bajo[1])]\n",
    "data_medio = data[(data['Ticket de Compra'] >= rango_medio[0]) & (data['Ticket de Compra'] <= rango_medio[1])]\n",
    "data_alto = data[(data['Ticket de Compra'] >= rango_alto[0]) & (data['Ticket de Compra'] <= rango_alto[1])]\n",
    "data_premium = data[(data['Ticket de Compra'] >= rango_premium[0]) & (data['Ticket de Compra'] <= rango_premium[1])]\n",
    "\n",
    "def obtener_estadisticas_object(data_group):\n",
    "    stats = {}\n",
    "    for col in data_group.select_dtypes(include=['object']).columns:\n",
    "        value_counts = data_group[col].value_counts()\n",
    "        most_common = value_counts.idxmax()\n",
    "        least_common = value_counts.idxmin()\n",
    "        suma_usos = value_counts[most_common] + value_counts[least_common]  # Suma entre el valor más y menos usado\n",
    "        stats[col] = {\n",
    "            'Valor más usado': most_common,\n",
    "            'Frecuencia más usada': value_counts.max(),\n",
    "            'Valor menos usado': least_common,\n",
    "            'Frecuencia menos usada': value_counts.min(),\n",
    "            'Suma entre valor más y menos usado': suma_usos,\n",
    "            'Valor promedio': value_counts.mean(),\n",
    "            'Total de filas': len(data_group)  # Total de filas en el grupo',\n",
    "    \n",
    "        }\n",
    "    return pd.DataFrame(stats)\n",
    "\n",
    "# Obtener estadísticas para cada grupo\n",
    "estadisticas_bajo_obj = obtener_estadisticas_object(data_bajo)\n",
    "estadisticas_medio_obj = obtener_estadisticas_object(data_medio)\n",
    "estadisticas_alto_obj = obtener_estadisticas_object(data_alto)\n",
    "estadisticas_premium_obj = obtener_estadisticas_object(data_premium)\n",
    "\n",
    "# Imprimir las estadísticas obtenidas\n",
    "print(\"Estadísticas para Ticket Bajo - Columnas Object:\")\n",
    "print(estadisticas_bajo_obj)\n",
    "print(\"\\nEstadísticas para Ticket Medio - Columnas Object:\")\n",
    "print(estadisticas_medio_obj)\n",
    "print(\"\\nEstadísticas para Ticket Alto - Columnas Object:\")\n",
    "print(estadisticas_alto_obj)\n",
    "print(\"\\nEstadísticas para Ticket Premium - Columnas Object:\")\n",
    "print(estadisticas_premium_obj)"
   ]
  }
 ],
 "metadata": {
  "kernelspec": {
   "display_name": "Python 3 (ipykernel)",
   "language": "python",
   "name": "python3"
  },
  "language_info": {
   "codemirror_mode": {
    "name": "ipython",
    "version": 3
   },
   "file_extension": ".py",
   "mimetype": "text/x-python",
   "name": "python",
   "nbconvert_exporter": "python",
   "pygments_lexer": "ipython3",
   "version": "3.11.5"
  }
 },
 "nbformat": 4,
 "nbformat_minor": 5
}
